{
 "cells": [
  {
   "cell_type": "code",
   "execution_count": 1,
   "metadata": {},
   "outputs": [],
   "source": [
    "#step1:importing libraries"
   ]
  },
  {
   "cell_type": "code",
   "execution_count": 2,
   "metadata": {},
   "outputs": [],
   "source": [
    "\n",
    "from tensorflow.keras.models import Sequential#for initializing\n",
    "from tensorflow.keras.layers import Dense #adding layers\n",
    "from tensorflow.keras.layers import Conv2D #convolution layer\n",
    "from tensorflow.keras.layers import MaxPool2D #max pooling\n",
    "from tensorflow.keras.layers import Flatten "
   ]
  },
  {
   "cell_type": "code",
   "execution_count": 3,
   "metadata": {},
   "outputs": [],
   "source": [
    "#step2:initializing the model"
   ]
  },
  {
   "cell_type": "code",
   "execution_count": 4,
   "metadata": {},
   "outputs": [],
   "source": [
    "model=Sequential()"
   ]
  },
  {
   "cell_type": "code",
   "execution_count": 5,
   "metadata": {},
   "outputs": [],
   "source": [
    "#step3:adding convolution layer"
   ]
  },
  {
   "cell_type": "code",
   "execution_count": 6,
   "metadata": {},
   "outputs": [],
   "source": [
    "model.add(Conv2D(32,3,3,input_shape=(64,64,3),activation='relu'))\n",
    "#1st parameter in conv2D = no. of Feature detectors\n",
    "#2nd &3rd parmater = size of feat. Detect.\n",
    "#4th parameter = Expected input image shape\n",
    "#5th parameter =Activation fnctn.\n"
   ]
  },
  {
   "cell_type": "code",
   "execution_count": 7,
   "metadata": {},
   "outputs": [],
   "source": [
    "# adding max pooling layer"
   ]
  },
  {
   "cell_type": "code",
   "execution_count": 8,
   "metadata": {},
   "outputs": [],
   "source": [
    "model.add(MaxPool2D(pool_size=(2,2)))"
   ]
  },
  {
   "cell_type": "code",
   "execution_count": 9,
   "metadata": {},
   "outputs": [],
   "source": [
    "#adding flatten layer which converts any n dimension array into one dimension"
   ]
  },
  {
   "cell_type": "code",
   "execution_count": 10,
   "metadata": {},
   "outputs": [],
   "source": [
    "model.add(Flatten())"
   ]
  },
  {
   "cell_type": "code",
   "execution_count": 11,
   "metadata": {},
   "outputs": [
    {
     "name": "stdout",
     "output_type": "stream",
     "text": [
      "Model: \"sequential\"\n",
      "_________________________________________________________________\n",
      "Layer (type)                 Output Shape              Param #   \n",
      "=================================================================\n",
      "conv2d (Conv2D)              (None, 21, 21, 32)        896       \n",
      "_________________________________________________________________\n",
      "max_pooling2d (MaxPooling2D) (None, 10, 10, 32)        0         \n",
      "_________________________________________________________________\n",
      "flatten (Flatten)            (None, 3200)              0         \n",
      "=================================================================\n",
      "Total params: 896\n",
      "Trainable params: 896\n",
      "Non-trainable params: 0\n",
      "_________________________________________________________________\n"
     ]
    }
   ],
   "source": [
    "model.summary()"
   ]
  },
  {
   "cell_type": "code",
   "execution_count": 12,
   "metadata": {},
   "outputs": [],
   "source": [
    "#step6:ANN layers"
   ]
  },
  {
   "cell_type": "code",
   "execution_count": 13,
   "metadata": {},
   "outputs": [],
   "source": [
    "model.add(Dense(units=128,activation='relu',kernel_initializer='random_uniform'))"
   ]
  },
  {
   "cell_type": "code",
   "execution_count": 14,
   "metadata": {},
   "outputs": [],
   "source": [
    "model.add(Dense(units=128,activation='relu',kernel_initializer='random_uniform'))"
   ]
  },
  {
   "cell_type": "code",
   "execution_count": 15,
   "metadata": {},
   "outputs": [],
   "source": [
    "model.add(Dense(units=5,activation='softmax',kernel_initializer='random_uniform'))"
   ]
  },
  {
   "cell_type": "code",
   "execution_count": 16,
   "metadata": {},
   "outputs": [
    {
     "name": "stdout",
     "output_type": "stream",
     "text": [
      "Model: \"sequential\"\n",
      "_________________________________________________________________\n",
      "Layer (type)                 Output Shape              Param #   \n",
      "=================================================================\n",
      "conv2d (Conv2D)              (None, 21, 21, 32)        896       \n",
      "_________________________________________________________________\n",
      "max_pooling2d (MaxPooling2D) (None, 10, 10, 32)        0         \n",
      "_________________________________________________________________\n",
      "flatten (Flatten)            (None, 3200)              0         \n",
      "_________________________________________________________________\n",
      "dense (Dense)                (None, 128)               409728    \n",
      "_________________________________________________________________\n",
      "dense_1 (Dense)              (None, 128)               16512     \n",
      "_________________________________________________________________\n",
      "dense_2 (Dense)              (None, 5)                 645       \n",
      "=================================================================\n",
      "Total params: 427,781\n",
      "Trainable params: 427,781\n",
      "Non-trainable params: 0\n",
      "_________________________________________________________________\n"
     ]
    }
   ],
   "source": [
    "model.summary()"
   ]
  },
  {
   "cell_type": "code",
   "execution_count": 17,
   "metadata": {},
   "outputs": [],
   "source": [
    "#compile the layers"
   ]
  },
  {
   "cell_type": "code",
   "execution_count": 18,
   "metadata": {},
   "outputs": [],
   "source": [
    "model.compile(optimizer='adam',loss='categorical_crossentropy',metrics=['accuracy'])"
   ]
  },
  {
   "cell_type": "code",
   "execution_count": 19,
   "metadata": {},
   "outputs": [],
   "source": [
    "#loading the dataset"
   ]
  },
  {
   "cell_type": "code",
   "execution_count": 20,
   "metadata": {},
   "outputs": [
    {
     "name": "stderr",
     "output_type": "stream",
     "text": [
      "Using TensorFlow backend.\n"
     ]
    }
   ],
   "source": [
    "from keras.preprocessing.image import ImageDataGenerator"
   ]
  },
  {
   "cell_type": "code",
   "execution_count": 21,
   "metadata": {},
   "outputs": [],
   "source": [
    "train_datagen=ImageDataGenerator(rescale=1./255,shear_range=0.2,horizontal_flip=True,zoom_range=0.2)\n",
    "test_datagen=ImageDataGenerator(rescale=1./255)"
   ]
  },
  {
   "cell_type": "code",
   "execution_count": 22,
   "metadata": {},
   "outputs": [
    {
     "name": "stdout",
     "output_type": "stream",
     "text": [
      "Found 360 images belonging to 5 classes.\n",
      "Found 150 images belonging to 5 classes.\n"
     ]
    }
   ],
   "source": [
    "x_train=train_datagen.flow_from_directory(r'DatasetMini\\trainset',target_size=(64,64),batch_size=32,class_mode='categorical')\n",
    "x_test=test_datagen.flow_from_directory(r'DatasetMini\\testset',target_size=(64,64),batch_size=32,class_mode='categorical')\n",
    "\n"
   ]
  },
  {
   "cell_type": "code",
   "execution_count": 23,
   "metadata": {},
   "outputs": [
    {
     "name": "stdout",
     "output_type": "stream",
     "text": [
      "{'acne': 0, 'eczema': 1, 'measles': 2, 'melanoma': 3, 'psoriasis': 4}\n"
     ]
    }
   ],
   "source": [
    "print(x_train.class_indices)"
   ]
  },
  {
   "cell_type": "code",
   "execution_count": 29,
   "metadata": {},
   "outputs": [
    {
     "name": "stdout",
     "output_type": "stream",
     "text": [
      "WARNING:tensorflow:sample_weight modes were coerced from\n",
      "  ...\n",
      "    to  \n",
      "  ['...']\n",
      "WARNING:tensorflow:sample_weight modes were coerced from\n",
      "  ...\n",
      "    to  \n",
      "  ['...']\n",
      "Train for 11 steps, validate for 4 steps\n",
      "Epoch 1/120\n",
      "11/11 [==============================] - 3s 276ms/step - loss: 0.6101 - accuracy: 0.7561 - val_loss: 1.4912 - val_accuracy: 0.5078\n",
      "Epoch 2/120\n",
      "11/11 [==============================] - 3s 231ms/step - loss: 0.5628 - accuracy: 0.7652 - val_loss: 1.5028 - val_accuracy: 0.4844\n",
      "Epoch 3/120\n",
      "11/11 [==============================] - 2s 220ms/step - loss: 0.5051 - accuracy: 0.8079 - val_loss: 1.5314 - val_accuracy: 0.4766\n",
      "Epoch 4/120\n",
      "11/11 [==============================] - 2s 222ms/step - loss: 0.4674 - accuracy: 0.8171 - val_loss: 1.5361 - val_accuracy: 0.4922\n",
      "Epoch 5/120\n",
      "11/11 [==============================] - 3s 230ms/step - loss: 0.4876 - accuracy: 0.8018 - val_loss: 1.5297 - val_accuracy: 0.4922\n",
      "Epoch 6/120\n",
      "11/11 [==============================] - 2s 214ms/step - loss: 0.4915 - accuracy: 0.8110 - val_loss: 1.5137 - val_accuracy: 0.5000\n",
      "Epoch 7/120\n",
      "11/11 [==============================] - 3s 236ms/step - loss: 0.4205 - accuracy: 0.8384 - val_loss: 1.5784 - val_accuracy: 0.5000\n",
      "Epoch 8/120\n",
      "11/11 [==============================] - 2s 224ms/step - loss: 0.4021 - accuracy: 0.8780 - val_loss: 1.6356 - val_accuracy: 0.5000\n",
      "Epoch 9/120\n",
      "11/11 [==============================] - 3s 230ms/step - loss: 0.4632 - accuracy: 0.8125 - val_loss: 1.6550 - val_accuracy: 0.5000\n",
      "Epoch 10/120\n",
      "11/11 [==============================] - 2s 227ms/step - loss: 0.4534 - accuracy: 0.8445 - val_loss: 1.5657 - val_accuracy: 0.5156\n",
      "Epoch 11/120\n",
      "11/11 [==============================] - 3s 232ms/step - loss: 0.4563 - accuracy: 0.8409 - val_loss: 1.5491 - val_accuracy: 0.5078\n",
      "Epoch 12/120\n",
      "11/11 [==============================] - 3s 251ms/step - loss: 0.4075 - accuracy: 0.8506 - val_loss: 1.5243 - val_accuracy: 0.5469\n",
      "Epoch 13/120\n",
      "11/11 [==============================] - 3s 229ms/step - loss: 0.4208 - accuracy: 0.8354 - val_loss: 1.5550 - val_accuracy: 0.5234\n",
      "Epoch 14/120\n",
      "11/11 [==============================] - 3s 296ms/step - loss: 0.3870 - accuracy: 0.8778 - val_loss: 1.6848 - val_accuracy: 0.4844\n",
      "Epoch 15/120\n",
      "11/11 [==============================] - 3s 302ms/step - loss: 0.4138 - accuracy: 0.8415 - val_loss: 1.6962 - val_accuracy: 0.5078\n",
      "Epoch 16/120\n",
      "11/11 [==============================] - 3s 292ms/step - loss: 0.4066 - accuracy: 0.8323 - val_loss: 1.6006 - val_accuracy: 0.4609\n",
      "Epoch 17/120\n",
      "11/11 [==============================] - 3s 298ms/step - loss: 0.4159 - accuracy: 0.8445 - val_loss: 1.5440 - val_accuracy: 0.5156\n",
      "Epoch 18/120\n",
      "11/11 [==============================] - 3s 240ms/step - loss: 0.3808 - accuracy: 0.8537 - val_loss: 1.8059 - val_accuracy: 0.4922\n",
      "Epoch 19/120\n",
      "11/11 [==============================] - 3s 239ms/step - loss: 0.4122 - accuracy: 0.8665 - val_loss: 1.7464 - val_accuracy: 0.5156\n",
      "Epoch 20/120\n",
      "11/11 [==============================] - 2s 217ms/step - loss: 0.3412 - accuracy: 0.8780 - val_loss: 1.7188 - val_accuracy: 0.5078\n",
      "Epoch 21/120\n",
      "11/11 [==============================] - 2s 221ms/step - loss: 0.3713 - accuracy: 0.8415 - val_loss: 1.6626 - val_accuracy: 0.5312\n",
      "Epoch 22/120\n",
      "11/11 [==============================] - 3s 238ms/step - loss: 0.3948 - accuracy: 0.8476 - val_loss: 1.6098 - val_accuracy: 0.5547\n",
      "Epoch 23/120\n",
      "11/11 [==============================] - 3s 256ms/step - loss: 0.3308 - accuracy: 0.8841 - val_loss: 1.7432 - val_accuracy: 0.5234\n",
      "Epoch 24/120\n",
      "11/11 [==============================] - 3s 233ms/step - loss: 0.3517 - accuracy: 0.8689 - val_loss: 1.8848 - val_accuracy: 0.4766\n",
      "Epoch 25/120\n",
      "11/11 [==============================] - 3s 252ms/step - loss: 0.3592 - accuracy: 0.8689 - val_loss: 1.9373 - val_accuracy: 0.4844\n",
      "Epoch 26/120\n",
      "11/11 [==============================] - 2s 225ms/step - loss: 0.3820 - accuracy: 0.8628 - val_loss: 1.6620 - val_accuracy: 0.5312\n",
      "Epoch 27/120\n",
      "11/11 [==============================] - 2s 218ms/step - loss: 0.3000 - accuracy: 0.8963 - val_loss: 1.8469 - val_accuracy: 0.5156\n",
      "Epoch 28/120\n",
      "11/11 [==============================] - 2s 225ms/step - loss: 0.3095 - accuracy: 0.9085 - val_loss: 1.7366 - val_accuracy: 0.5156\n",
      "Epoch 29/120\n",
      "11/11 [==============================] - 2s 223ms/step - loss: 0.3424 - accuracy: 0.8628 - val_loss: 1.7092 - val_accuracy: 0.5156\n",
      "Epoch 30/120\n",
      "11/11 [==============================] - 2s 221ms/step - loss: 0.2733 - accuracy: 0.9116 - val_loss: 1.6725 - val_accuracy: 0.5547\n",
      "Epoch 31/120\n",
      "11/11 [==============================] - 3s 235ms/step - loss: 0.2707 - accuracy: 0.8933 - val_loss: 1.8354 - val_accuracy: 0.5391\n",
      "Epoch 32/120\n",
      "11/11 [==============================] - 2s 218ms/step - loss: 0.2382 - accuracy: 0.9207 - val_loss: 1.9218 - val_accuracy: 0.5234\n",
      "Epoch 33/120\n",
      "11/11 [==============================] - 2s 218ms/step - loss: 0.2343 - accuracy: 0.9299 - val_loss: 1.9312 - val_accuracy: 0.5312\n",
      "Epoch 34/120\n",
      "11/11 [==============================] - 3s 234ms/step - loss: 0.2412 - accuracy: 0.9055 - val_loss: 1.9132 - val_accuracy: 0.5547\n",
      "Epoch 35/120\n",
      "11/11 [==============================] - 2s 216ms/step - loss: 0.2369 - accuracy: 0.9146 - val_loss: 1.8971 - val_accuracy: 0.5547\n",
      "Epoch 36/120\n",
      "11/11 [==============================] - 3s 250ms/step - loss: 0.2288 - accuracy: 0.9116 - val_loss: 1.9335 - val_accuracy: 0.5547\n",
      "Epoch 37/120\n",
      "11/11 [==============================] - 2s 200ms/step - loss: 0.2485 - accuracy: 0.8994 - val_loss: 1.9076 - val_accuracy: 0.5234\n",
      "Epoch 38/120\n",
      "11/11 [==============================] - 2s 224ms/step - loss: 0.3362 - accuracy: 0.8659 - val_loss: 1.8716 - val_accuracy: 0.5312\n",
      "Epoch 39/120\n",
      "11/11 [==============================] - 2s 220ms/step - loss: 0.3119 - accuracy: 0.8689 - val_loss: 1.9010 - val_accuracy: 0.5156\n",
      "Epoch 40/120\n",
      "11/11 [==============================] - 2s 219ms/step - loss: 0.2427 - accuracy: 0.9024 - val_loss: 1.9965 - val_accuracy: 0.5234\n",
      "Epoch 41/120\n",
      "11/11 [==============================] - 2s 219ms/step - loss: 0.2623 - accuracy: 0.9024 - val_loss: 1.9302 - val_accuracy: 0.5312\n",
      "Epoch 42/120\n",
      "11/11 [==============================] - 2s 226ms/step - loss: 0.1906 - accuracy: 0.9390 - val_loss: 2.2184 - val_accuracy: 0.5000\n",
      "Epoch 43/120\n",
      "11/11 [==============================] - 2s 223ms/step - loss: 0.2091 - accuracy: 0.9299 - val_loss: 1.9181 - val_accuracy: 0.5625\n",
      "Epoch 44/120\n",
      "11/11 [==============================] - 3s 282ms/step - loss: 0.2010 - accuracy: 0.9299 - val_loss: 2.1334 - val_accuracy: 0.5234\n",
      "Epoch 45/120\n",
      "11/11 [==============================] - 3s 234ms/step - loss: 0.1705 - accuracy: 0.9390 - val_loss: 1.9537 - val_accuracy: 0.5234\n",
      "Epoch 46/120\n",
      "11/11 [==============================] - 2s 216ms/step - loss: 0.1390 - accuracy: 0.9634 - val_loss: 2.2200 - val_accuracy: 0.5547\n",
      "Epoch 47/120\n",
      "11/11 [==============================] - 2s 224ms/step - loss: 0.1728 - accuracy: 0.9512 - val_loss: 2.0226 - val_accuracy: 0.5391\n",
      "Epoch 48/120\n",
      "11/11 [==============================] - 2s 220ms/step - loss: 0.1884 - accuracy: 0.9329 - val_loss: 2.0208 - val_accuracy: 0.5156\n",
      "Epoch 49/120\n",
      "11/11 [==============================] - 3s 247ms/step - loss: 0.2193 - accuracy: 0.9233 - val_loss: 2.0224 - val_accuracy: 0.5234\n",
      "Epoch 50/120\n",
      "11/11 [==============================] - 3s 228ms/step - loss: 0.1798 - accuracy: 0.9451 - val_loss: 2.0720 - val_accuracy: 0.5391\n",
      "Epoch 51/120\n",
      "11/11 [==============================] - 2s 214ms/step - loss: 0.1381 - accuracy: 0.9573 - val_loss: 2.2620 - val_accuracy: 0.5391\n",
      "Epoch 52/120\n",
      "11/11 [==============================] - 2s 217ms/step - loss: 0.1367 - accuracy: 0.9512 - val_loss: 2.1052 - val_accuracy: 0.5234\n",
      "Epoch 53/120\n",
      "11/11 [==============================] - 2s 219ms/step - loss: 0.1639 - accuracy: 0.9573 - val_loss: 2.2648 - val_accuracy: 0.5469\n",
      "Epoch 54/120\n",
      "11/11 [==============================] - 2s 218ms/step - loss: 0.1767 - accuracy: 0.9268 - val_loss: 2.0883 - val_accuracy: 0.5469\n",
      "Epoch 55/120\n",
      "11/11 [==============================] - 3s 243ms/step - loss: 0.1550 - accuracy: 0.9482 - val_loss: 2.2719 - val_accuracy: 0.5312\n",
      "Epoch 56/120\n",
      "11/11 [==============================] - 2s 199ms/step - loss: 0.1501 - accuracy: 0.9512 - val_loss: 2.2719 - val_accuracy: 0.5469\n",
      "Epoch 57/120\n",
      "11/11 [==============================] - 3s 248ms/step - loss: 0.1103 - accuracy: 0.9665 - val_loss: 2.1325 - val_accuracy: 0.5859\n",
      "Epoch 58/120\n",
      "11/11 [==============================] - 2s 217ms/step - loss: 0.1250 - accuracy: 0.9543 - val_loss: 2.3553 - val_accuracy: 0.5469\n",
      "Epoch 59/120\n",
      "11/11 [==============================] - 2s 222ms/step - loss: 0.1187 - accuracy: 0.9634 - val_loss: 2.3481 - val_accuracy: 0.5234\n",
      "Epoch 60/120\n",
      "11/11 [==============================] - 3s 231ms/step - loss: 0.1148 - accuracy: 0.9659 - val_loss: 2.2798 - val_accuracy: 0.5391\n",
      "Epoch 61/120\n",
      "11/11 [==============================] - 3s 237ms/step - loss: 0.1366 - accuracy: 0.9545 - val_loss: 2.3564 - val_accuracy: 0.5234\n",
      "Epoch 62/120\n",
      "11/11 [==============================] - 3s 233ms/step - loss: 0.1199 - accuracy: 0.9665 - val_loss: 2.5573 - val_accuracy: 0.5078\n",
      "Epoch 63/120\n",
      "11/11 [==============================] - 3s 230ms/step - loss: 0.1640 - accuracy: 0.9543 - val_loss: 2.3322 - val_accuracy: 0.5234\n",
      "Epoch 64/120\n",
      "11/11 [==============================] - 2s 219ms/step - loss: 0.1110 - accuracy: 0.9634 - val_loss: 2.4674 - val_accuracy: 0.5234\n",
      "Epoch 65/120\n",
      "11/11 [==============================] - 2s 216ms/step - loss: 0.1051 - accuracy: 0.9695 - val_loss: 2.4448 - val_accuracy: 0.5312\n",
      "Epoch 66/120\n",
      "11/11 [==============================] - 2s 216ms/step - loss: 0.1378 - accuracy: 0.9604 - val_loss: 2.2229 - val_accuracy: 0.5547\n",
      "Epoch 67/120\n",
      "11/11 [==============================] - 2s 218ms/step - loss: 0.1090 - accuracy: 0.9726 - val_loss: 2.4472 - val_accuracy: 0.5469\n",
      "Epoch 68/120\n",
      "11/11 [==============================] - 3s 240ms/step - loss: 0.0991 - accuracy: 0.9634 - val_loss: 2.4453 - val_accuracy: 0.5703\n",
      "Epoch 69/120\n",
      "11/11 [==============================] - 3s 237ms/step - loss: 0.1493 - accuracy: 0.9512 - val_loss: 2.5586 - val_accuracy: 0.5078\n",
      "Epoch 70/120\n",
      "11/11 [==============================] - 3s 247ms/step - loss: 0.1595 - accuracy: 0.9482 - val_loss: 2.3201 - val_accuracy: 0.5234\n",
      "Epoch 71/120\n",
      "11/11 [==============================] - 3s 245ms/step - loss: 0.2724 - accuracy: 0.8902 - val_loss: 2.2360 - val_accuracy: 0.5781\n",
      "Epoch 72/120\n",
      "11/11 [==============================] - 3s 243ms/step - loss: 0.1281 - accuracy: 0.9604 - val_loss: 2.2929 - val_accuracy: 0.5547\n",
      "Epoch 73/120\n",
      "11/11 [==============================] - 2s 220ms/step - loss: 0.1065 - accuracy: 0.9573 - val_loss: 2.3119 - val_accuracy: 0.5625\n",
      "Epoch 74/120\n",
      "11/11 [==============================] - 3s 258ms/step - loss: 0.0967 - accuracy: 0.9787 - val_loss: 2.3272 - val_accuracy: 0.5625\n",
      "Epoch 75/120\n",
      "11/11 [==============================] - 2s 220ms/step - loss: 0.0990 - accuracy: 0.9695 - val_loss: 2.3711 - val_accuracy: 0.5547\n",
      "Epoch 76/120\n",
      "11/11 [==============================] - 2s 218ms/step - loss: 0.1053 - accuracy: 0.9726 - val_loss: 2.4547 - val_accuracy: 0.5391\n",
      "Epoch 77/120\n",
      "11/11 [==============================] - 2s 216ms/step - loss: 0.0658 - accuracy: 0.9878 - val_loss: 2.6383 - val_accuracy: 0.5391\n",
      "Epoch 78/120\n",
      "11/11 [==============================] - 2s 223ms/step - loss: 0.0578 - accuracy: 0.9939 - val_loss: 2.4897 - val_accuracy: 0.5312\n",
      "Epoch 79/120\n",
      "11/11 [==============================] - 2s 224ms/step - loss: 0.0678 - accuracy: 0.9858 - val_loss: 2.4968 - val_accuracy: 0.5469\n",
      "Epoch 80/120\n",
      "11/11 [==============================] - 3s 234ms/step - loss: 0.0807 - accuracy: 0.9744 - val_loss: 2.6056 - val_accuracy: 0.5469\n",
      "Epoch 81/120\n",
      "11/11 [==============================] - 2s 227ms/step - loss: 0.1128 - accuracy: 0.9634 - val_loss: 2.6157 - val_accuracy: 0.5625\n",
      "Epoch 82/120\n",
      "11/11 [==============================] - 3s 228ms/step - loss: 0.0726 - accuracy: 0.9695 - val_loss: 2.7512 - val_accuracy: 0.5312\n",
      "Epoch 83/120\n",
      "11/11 [==============================] - 2s 220ms/step - loss: 0.0796 - accuracy: 0.9756 - val_loss: 2.4584 - val_accuracy: 0.5547\n",
      "Epoch 84/120\n",
      "11/11 [==============================] - 2s 222ms/step - loss: 0.0911 - accuracy: 0.9744 - val_loss: 2.7705 - val_accuracy: 0.5469\n",
      "Epoch 85/120\n",
      "11/11 [==============================] - 2s 217ms/step - loss: 0.0771 - accuracy: 0.9756 - val_loss: 2.5875 - val_accuracy: 0.5234\n",
      "Epoch 86/120\n",
      "11/11 [==============================] - 2s 217ms/step - loss: 0.0799 - accuracy: 0.9726 - val_loss: 2.8410 - val_accuracy: 0.5234\n",
      "Epoch 87/120\n",
      "11/11 [==============================] - 3s 243ms/step - loss: 0.0586 - accuracy: 0.9848 - val_loss: 2.5848 - val_accuracy: 0.5703\n",
      "Epoch 88/120\n",
      "11/11 [==============================] - 2s 206ms/step - loss: 0.0630 - accuracy: 0.9848 - val_loss: 2.9551 - val_accuracy: 0.5156\n",
      "Epoch 89/120\n",
      "11/11 [==============================] - 2s 217ms/step - loss: 0.0673 - accuracy: 0.9756 - val_loss: 2.6217 - val_accuracy: 0.5312\n",
      "Epoch 90/120\n",
      "11/11 [==============================] - 2s 219ms/step - loss: 0.1022 - accuracy: 0.9573 - val_loss: 2.6833 - val_accuracy: 0.5781\n",
      "Epoch 91/120\n",
      "11/11 [==============================] - 2s 224ms/step - loss: 0.1099 - accuracy: 0.9726 - val_loss: 2.9927 - val_accuracy: 0.5312\n",
      "Epoch 92/120\n",
      "11/11 [==============================] - 2s 218ms/step - loss: 0.1044 - accuracy: 0.9726 - val_loss: 2.7930 - val_accuracy: 0.5391\n",
      "Epoch 93/120\n",
      "11/11 [==============================] - 2s 222ms/step - loss: 0.0742 - accuracy: 0.9817 - val_loss: 2.7183 - val_accuracy: 0.5391\n",
      "Epoch 94/120\n",
      "11/11 [==============================] - 3s 250ms/step - loss: 0.0840 - accuracy: 0.9726 - val_loss: 2.6208 - val_accuracy: 0.5781\n",
      "Epoch 95/120\n",
      "11/11 [==============================] - 3s 255ms/step - loss: 0.0513 - accuracy: 0.9909 - val_loss: 2.7380 - val_accuracy: 0.5547\n",
      "Epoch 96/120\n",
      "11/11 [==============================] - 2s 222ms/step - loss: 0.0682 - accuracy: 0.9817 - val_loss: 2.7573 - val_accuracy: 0.5625\n",
      "Epoch 97/120\n",
      "11/11 [==============================] - 2s 216ms/step - loss: 0.0568 - accuracy: 0.9848 - val_loss: 2.5851 - val_accuracy: 0.5391\n",
      "Epoch 98/120\n",
      "11/11 [==============================] - 2s 211ms/step - loss: 0.0617 - accuracy: 0.9756 - val_loss: 2.6835 - val_accuracy: 0.5781\n",
      "Epoch 99/120\n",
      "11/11 [==============================] - 2s 224ms/step - loss: 0.0403 - accuracy: 0.9939 - val_loss: 3.0289 - val_accuracy: 0.5547\n",
      "Epoch 100/120\n",
      "11/11 [==============================] - 3s 248ms/step - loss: 0.0375 - accuracy: 0.9878 - val_loss: 2.8328 - val_accuracy: 0.5703\n",
      "Epoch 101/120\n",
      "11/11 [==============================] - 2s 221ms/step - loss: 0.0320 - accuracy: 0.9970 - val_loss: 2.7045 - val_accuracy: 0.5469\n",
      "Epoch 102/120\n",
      "11/11 [==============================] - 3s 253ms/step - loss: 0.0863 - accuracy: 0.9695 - val_loss: 2.5981 - val_accuracy: 0.5391\n",
      "Epoch 103/120\n",
      "11/11 [==============================] - 2s 214ms/step - loss: 0.0858 - accuracy: 0.9726 - val_loss: 2.6262 - val_accuracy: 0.5781\n",
      "Epoch 104/120\n",
      "11/11 [==============================] - 2s 214ms/step - loss: 0.0547 - accuracy: 0.9817 - val_loss: 2.9405 - val_accuracy: 0.5391\n",
      "Epoch 105/120\n",
      "11/11 [==============================] - 2s 216ms/step - loss: 0.0497 - accuracy: 0.9939 - val_loss: 2.6736 - val_accuracy: 0.5547\n",
      "Epoch 106/120\n",
      "11/11 [==============================] - 3s 245ms/step - loss: 0.0576 - accuracy: 0.9848 - val_loss: 2.9020 - val_accuracy: 0.5469\n",
      "Epoch 107/120\n",
      "11/11 [==============================] - 2s 227ms/step - loss: 0.0463 - accuracy: 0.9817 - val_loss: 3.0545 - val_accuracy: 0.5547\n",
      "Epoch 108/120\n",
      "11/11 [==============================] - 3s 238ms/step - loss: 0.0519 - accuracy: 0.9886 - val_loss: 3.2007 - val_accuracy: 0.5156\n",
      "Epoch 109/120\n",
      "11/11 [==============================] - 2s 220ms/step - loss: 0.0398 - accuracy: 0.9878 - val_loss: 2.7667 - val_accuracy: 0.5703\n",
      "Epoch 110/120\n",
      "11/11 [==============================] - 2s 224ms/step - loss: 0.0453 - accuracy: 0.9886 - val_loss: 2.8863 - val_accuracy: 0.5625\n",
      "Epoch 111/120\n",
      "11/11 [==============================] - 2s 221ms/step - loss: 0.0653 - accuracy: 0.9756 - val_loss: 2.9293 - val_accuracy: 0.5469\n",
      "Epoch 112/120\n",
      "11/11 [==============================] - 3s 228ms/step - loss: 0.0471 - accuracy: 0.9915 - val_loss: 2.8461 - val_accuracy: 0.5859\n"
     ]
    },
    {
     "name": "stdout",
     "output_type": "stream",
     "text": [
      "Epoch 113/120\n",
      "11/11 [==============================] - 3s 239ms/step - loss: 0.0691 - accuracy: 0.9726 - val_loss: 3.0275 - val_accuracy: 0.5781\n",
      "Epoch 114/120\n",
      "11/11 [==============================] - 2s 219ms/step - loss: 0.0484 - accuracy: 0.9909 - val_loss: 2.8769 - val_accuracy: 0.5391\n",
      "Epoch 115/120\n",
      "11/11 [==============================] - 2s 220ms/step - loss: 0.0533 - accuracy: 0.9878 - val_loss: 3.0657 - val_accuracy: 0.5312\n",
      "Epoch 116/120\n",
      "11/11 [==============================] - 2s 217ms/step - loss: 0.0579 - accuracy: 0.9848 - val_loss: 3.1282 - val_accuracy: 0.5703\n",
      "Epoch 117/120\n",
      "11/11 [==============================] - 3s 234ms/step - loss: 0.0472 - accuracy: 0.9909 - val_loss: 2.8236 - val_accuracy: 0.5859\n",
      "Epoch 118/120\n",
      "11/11 [==============================] - 3s 231ms/step - loss: 0.0334 - accuracy: 0.9939 - val_loss: 2.7642 - val_accuracy: 0.5781\n",
      "Epoch 119/120\n",
      "11/11 [==============================] - 3s 257ms/step - loss: 0.0306 - accuracy: 0.9939 - val_loss: 2.7860 - val_accuracy: 0.5703\n",
      "Epoch 120/120\n",
      "11/11 [==============================] - 3s 237ms/step - loss: 0.0582 - accuracy: 0.9695 - val_loss: 2.8440 - val_accuracy: 0.5547\n"
     ]
    },
    {
     "data": {
      "text/plain": [
       "<tensorflow.python.keras.callbacks.History at 0x1899982c788>"
      ]
     },
     "execution_count": 29,
     "metadata": {},
     "output_type": "execute_result"
    }
   ],
   "source": [
    "model.fit_generator(x_train,steps_per_epoch=360//32,validation_data=x_test,epochs=120,validation_steps=150//32)"
   ]
  },
  {
   "cell_type": "code",
   "execution_count": 30,
   "metadata": {},
   "outputs": [],
   "source": [
    "model.save('skintest.h5')"
   ]
  },
  {
   "cell_type": "code",
   "execution_count": null,
   "metadata": {},
   "outputs": [],
   "source": []
  }
 ],
 "metadata": {
  "kernelspec": {
   "display_name": "Python 3",
   "language": "python",
   "name": "python3"
  },
  "language_info": {
   "codemirror_mode": {
    "name": "ipython",
    "version": 3
   },
   "file_extension": ".py",
   "mimetype": "text/x-python",
   "name": "python",
   "nbconvert_exporter": "python",
   "pygments_lexer": "ipython3",
   "version": "3.7.7"
  }
 },
 "nbformat": 4,
 "nbformat_minor": 4
}
